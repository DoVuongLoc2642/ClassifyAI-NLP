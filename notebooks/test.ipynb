{
 "cells": [
  {
   "cell_type": "code",
   "id": "initial_id",
   "metadata": {
    "collapsed": true,
    "ExecuteTime": {
     "end_time": "2025-05-14T06:19:13.073719Z",
     "start_time": "2025-05-14T06:19:12.727625Z"
    }
   },
   "source": [
    "import os.path\n",
    "import numpy as np\n",
    "import pandas as pd\n",
    "import matplotlib.pyplot as plt\n",
    "from sklearn.feature_extraction.text import TfidfTransformer, TfidfVectorizer\n",
    "from sklearn.metrics import confusion_matrix\n"
   ],
   "outputs": [],
   "execution_count": 2
  },
  {
   "metadata": {},
   "cell_type": "markdown",
   "source": [
    "# Load Data\n",
    "\n"
   ],
   "id": "a82480a2a48ea96c"
  },
  {
   "metadata": {},
   "cell_type": "markdown",
   "source": "Git LFS files",
   "id": "847d958132c2b90c"
  },
  {
   "metadata": {
    "ExecuteTime": {
     "end_time": "2025-05-13T06:52:58.843894Z",
     "start_time": "2025-05-13T06:52:58.841652Z"
    }
   },
   "cell_type": "code",
   "source": [
    "import os\n",
    "# Git LFS files\n",
    "path = \"./\"\n",
    "path = os.path.abspath(os.path.normpath(os.path.expanduser(path)))\n",
    "print(path)"
   ],
   "id": "f0b889eb76fbdcdc",
   "outputs": [
    {
     "name": "stdout",
     "output_type": "stream",
     "text": [
      "/Users/locc/Library/CloudStorage/OneDrive-TheUniversityofSydney(Students)/Binh-Coaching/Assignment/Ass-2/Project/notebooks\n"
     ]
    }
   ],
   "execution_count": 2
  },
  {
   "metadata": {
    "ExecuteTime": {
     "end_time": "2025-05-13T07:04:43.439295Z",
     "start_time": "2025-05-13T07:04:43.137340Z"
    }
   },
   "cell_type": "code",
   "source": [
    "path =  \"../datasets/bbc-fulltext/bbc/test\"\n",
    "!cd {path}\n",
    "!git lfs pull"
   ],
   "id": "9f2ff67179b3e8f6",
   "outputs": [
    {
     "name": "stdout",
     "output_type": "stream",
     "text": [
      "Not in a Git repository.\r\n"
     ]
    }
   ],
   "execution_count": 7
  },
  {
   "metadata": {
    "ExecuteTime": {
     "end_time": "2025-05-13T07:03:20.020823Z",
     "start_time": "2025-05-13T07:03:19.803357Z"
    }
   },
   "cell_type": "code",
   "source": [
    "import pandas as pd\n",
    "import os\n",
    "\n",
    "data_path = \"../datasets/bbc-fulltext/bbc/\"\n",
    "rows = []  # Use a list to store rows\n",
    "\n",
    "for root, directories, files in os.walk(data_path):\n",
    "    for filename in files:\n",
    "        classname = os.path.basename(root)\n",
    "        if classname in ['business', 'entertainment', 'politics', 'sport', 'tech']:\n",
    "            _name = os.path.splitext(filename)[0]\n",
    "            filepath = os.path.join(root, filename)\n",
    "            with open(filepath, \"r\", encoding='latin-1') as f:\n",
    "                content = f.read()\n",
    "                content = \" \".join(str(content).split())\n",
    "            # Append the row as a dictionary to the list\n",
    "            rows.append({'filename': _name, 'content': content, 'category': classname})\n",
    "\n",
    "# Create a DataFrame from the list of rows\n",
    "df_raw = pd.DataFrame(rows)\n",
    "\n",
    "df_raw"
   ],
   "id": "3b06bb97db81ce38",
   "outputs": [
    {
     "data": {
      "text/plain": [
       "     filename                                            content  \\\n",
       "0         289  version https://git-lfs.github.com/spec/v1 oid...   \n",
       "1         262  version https://git-lfs.github.com/spec/v1 oid...   \n",
       "2         276  version https://git-lfs.github.com/spec/v1 oid...   \n",
       "3         060  version https://git-lfs.github.com/spec/v1 oid...   \n",
       "4         074  version https://git-lfs.github.com/spec/v1 oid...   \n",
       "...       ...                                                ...   \n",
       "2221      086  version https://git-lfs.github.com/spec/v1 oid...   \n",
       "2222      253  version https://git-lfs.github.com/spec/v1 oid...   \n",
       "2223      247  version https://git-lfs.github.com/spec/v1 oid...   \n",
       "2224      290  version https://git-lfs.github.com/spec/v1 oid...   \n",
       "2225      284  version https://git-lfs.github.com/spec/v1 oid...   \n",
       "\n",
       "           category  \n",
       "0     entertainment  \n",
       "1     entertainment  \n",
       "2     entertainment  \n",
       "3     entertainment  \n",
       "4     entertainment  \n",
       "...             ...  \n",
       "2221           tech  \n",
       "2222           tech  \n",
       "2223           tech  \n",
       "2224           tech  \n",
       "2225           tech  \n",
       "\n",
       "[2226 rows x 3 columns]"
      ],
      "text/html": [
       "<div>\n",
       "<style scoped>\n",
       "    .dataframe tbody tr th:only-of-type {\n",
       "        vertical-align: middle;\n",
       "    }\n",
       "\n",
       "    .dataframe tbody tr th {\n",
       "        vertical-align: top;\n",
       "    }\n",
       "\n",
       "    .dataframe thead th {\n",
       "        text-align: right;\n",
       "    }\n",
       "</style>\n",
       "<table border=\"1\" class=\"dataframe\">\n",
       "  <thead>\n",
       "    <tr style=\"text-align: right;\">\n",
       "      <th></th>\n",
       "      <th>filename</th>\n",
       "      <th>content</th>\n",
       "      <th>category</th>\n",
       "    </tr>\n",
       "  </thead>\n",
       "  <tbody>\n",
       "    <tr>\n",
       "      <th>0</th>\n",
       "      <td>289</td>\n",
       "      <td>version https://git-lfs.github.com/spec/v1 oid...</td>\n",
       "      <td>entertainment</td>\n",
       "    </tr>\n",
       "    <tr>\n",
       "      <th>1</th>\n",
       "      <td>262</td>\n",
       "      <td>version https://git-lfs.github.com/spec/v1 oid...</td>\n",
       "      <td>entertainment</td>\n",
       "    </tr>\n",
       "    <tr>\n",
       "      <th>2</th>\n",
       "      <td>276</td>\n",
       "      <td>version https://git-lfs.github.com/spec/v1 oid...</td>\n",
       "      <td>entertainment</td>\n",
       "    </tr>\n",
       "    <tr>\n",
       "      <th>3</th>\n",
       "      <td>060</td>\n",
       "      <td>version https://git-lfs.github.com/spec/v1 oid...</td>\n",
       "      <td>entertainment</td>\n",
       "    </tr>\n",
       "    <tr>\n",
       "      <th>4</th>\n",
       "      <td>074</td>\n",
       "      <td>version https://git-lfs.github.com/spec/v1 oid...</td>\n",
       "      <td>entertainment</td>\n",
       "    </tr>\n",
       "    <tr>\n",
       "      <th>...</th>\n",
       "      <td>...</td>\n",
       "      <td>...</td>\n",
       "      <td>...</td>\n",
       "    </tr>\n",
       "    <tr>\n",
       "      <th>2221</th>\n",
       "      <td>086</td>\n",
       "      <td>version https://git-lfs.github.com/spec/v1 oid...</td>\n",
       "      <td>tech</td>\n",
       "    </tr>\n",
       "    <tr>\n",
       "      <th>2222</th>\n",
       "      <td>253</td>\n",
       "      <td>version https://git-lfs.github.com/spec/v1 oid...</td>\n",
       "      <td>tech</td>\n",
       "    </tr>\n",
       "    <tr>\n",
       "      <th>2223</th>\n",
       "      <td>247</td>\n",
       "      <td>version https://git-lfs.github.com/spec/v1 oid...</td>\n",
       "      <td>tech</td>\n",
       "    </tr>\n",
       "    <tr>\n",
       "      <th>2224</th>\n",
       "      <td>290</td>\n",
       "      <td>version https://git-lfs.github.com/spec/v1 oid...</td>\n",
       "      <td>tech</td>\n",
       "    </tr>\n",
       "    <tr>\n",
       "      <th>2225</th>\n",
       "      <td>284</td>\n",
       "      <td>version https://git-lfs.github.com/spec/v1 oid...</td>\n",
       "      <td>tech</td>\n",
       "    </tr>\n",
       "  </tbody>\n",
       "</table>\n",
       "<p>2226 rows × 3 columns</p>\n",
       "</div>"
      ]
     },
     "execution_count": 6,
     "metadata": {},
     "output_type": "execute_result"
    }
   ],
   "execution_count": 6
  },
  {
   "metadata": {
    "ExecuteTime": {
     "end_time": "2025-05-13T06:53:16.452314Z",
     "start_time": "2025-05-13T06:53:16.448765Z"
    }
   },
   "cell_type": "code",
   "source": "df_raw.shape",
   "id": "8093f177d6945c34",
   "outputs": [
    {
     "data": {
      "text/plain": [
       "(2226, 3)"
      ]
     },
     "execution_count": 4,
     "metadata": {},
     "output_type": "execute_result"
    }
   ],
   "execution_count": 4
  },
  {
   "metadata": {
    "ExecuteTime": {
     "end_time": "2025-05-13T06:53:19.213505Z",
     "start_time": "2025-05-13T06:53:18.945471Z"
    }
   },
   "cell_type": "code",
   "source": [
    "df_raw = df_raw.drop('filename',1)\n",
    "df_raw"
   ],
   "id": "7cdf68b1d86b9241",
   "outputs": [
    {
     "ename": "TypeError",
     "evalue": "DataFrame.drop() takes from 1 to 2 positional arguments but 3 were given",
     "output_type": "error",
     "traceback": [
      "\u001B[0;31m---------------------------------------------------------------------------\u001B[0m",
      "\u001B[0;31mTypeError\u001B[0m                                 Traceback (most recent call last)",
      "Cell \u001B[0;32mIn[5], line 1\u001B[0m\n\u001B[0;32m----> 1\u001B[0m df_raw \u001B[38;5;241m=\u001B[39m \u001B[43mdf_raw\u001B[49m\u001B[38;5;241;43m.\u001B[39;49m\u001B[43mdrop\u001B[49m\u001B[43m(\u001B[49m\u001B[38;5;124;43m'\u001B[39;49m\u001B[38;5;124;43mfilename\u001B[39;49m\u001B[38;5;124;43m'\u001B[39;49m\u001B[43m,\u001B[49m\u001B[38;5;241;43m1\u001B[39;49m\u001B[43m)\u001B[49m\n\u001B[1;32m      2\u001B[0m df_raw\n",
      "\u001B[0;31mTypeError\u001B[0m: DataFrame.drop() takes from 1 to 2 positional arguments but 3 were given"
     ]
    }
   ],
   "execution_count": 5
  },
  {
   "metadata": {},
   "cell_type": "code",
   "outputs": [],
   "execution_count": null,
   "source": "",
   "id": "17f2855b4eee1412"
  },
  {
   "metadata": {
    "ExecuteTime": {
     "end_time": "2025-05-07T09:26:39.281850Z",
     "start_time": "2025-05-07T09:26:39.196275Z"
    }
   },
   "cell_type": "code",
   "source": [
    "train_df = pd.read_csv('../datasets/bbc-fulltext/bbc/trainingset.csv',sep='^',header=0)\n",
    "test_df = pd.read_csv('../datasets/bbc-fulltext/bbc/test_groundtruth.csv',sep='^',header=0)"
   ],
   "id": "4b1d0e1934febf99",
   "outputs": [],
   "execution_count": 52
  },
  {
   "metadata": {
    "ExecuteTime": {
     "end_time": "2025-05-07T09:26:43.427758Z",
     "start_time": "2025-05-07T09:26:43.416652Z"
    }
   },
   "cell_type": "code",
   "source": "train_df.head()",
   "id": "3d000042e8f6c749",
   "outputs": [
    {
     "data": {
      "text/plain": [
       "                                             content       category\n",
       "0  French boss to leave EADS The French co-head o...       business\n",
       "1  Gamers could drive high-definition TV, films, ...           tech\n",
       "2  Stalemate in pension strike talks Talks aimed ...       politics\n",
       "3  Johnny and Denise lose Passport Johnny Vaughan...  entertainment\n",
       "4  Tautou 'to star in Da Vinci film' French actre...  entertainment"
      ],
      "text/html": [
       "<div>\n",
       "<style scoped>\n",
       "    .dataframe tbody tr th:only-of-type {\n",
       "        vertical-align: middle;\n",
       "    }\n",
       "\n",
       "    .dataframe tbody tr th {\n",
       "        vertical-align: top;\n",
       "    }\n",
       "\n",
       "    .dataframe thead th {\n",
       "        text-align: right;\n",
       "    }\n",
       "</style>\n",
       "<table border=\"1\" class=\"dataframe\">\n",
       "  <thead>\n",
       "    <tr style=\"text-align: right;\">\n",
       "      <th></th>\n",
       "      <th>content</th>\n",
       "      <th>category</th>\n",
       "    </tr>\n",
       "  </thead>\n",
       "  <tbody>\n",
       "    <tr>\n",
       "      <th>0</th>\n",
       "      <td>French boss to leave EADS The French co-head o...</td>\n",
       "      <td>business</td>\n",
       "    </tr>\n",
       "    <tr>\n",
       "      <th>1</th>\n",
       "      <td>Gamers could drive high-definition TV, films, ...</td>\n",
       "      <td>tech</td>\n",
       "    </tr>\n",
       "    <tr>\n",
       "      <th>2</th>\n",
       "      <td>Stalemate in pension strike talks Talks aimed ...</td>\n",
       "      <td>politics</td>\n",
       "    </tr>\n",
       "    <tr>\n",
       "      <th>3</th>\n",
       "      <td>Johnny and Denise lose Passport Johnny Vaughan...</td>\n",
       "      <td>entertainment</td>\n",
       "    </tr>\n",
       "    <tr>\n",
       "      <th>4</th>\n",
       "      <td>Tautou 'to star in Da Vinci film' French actre...</td>\n",
       "      <td>entertainment</td>\n",
       "    </tr>\n",
       "  </tbody>\n",
       "</table>\n",
       "</div>"
      ]
     },
     "execution_count": 53,
     "metadata": {},
     "output_type": "execute_result"
    }
   ],
   "execution_count": 53
  },
  {
   "metadata": {
    "ExecuteTime": {
     "end_time": "2025-05-07T09:27:00.755666Z",
     "start_time": "2025-05-07T09:27:00.736761Z"
    }
   },
   "cell_type": "code",
   "source": "train_df['category'].unique()",
   "id": "d5f1b5842069bbf8",
   "outputs": [
    {
     "data": {
      "text/plain": [
       "array(['business', 'tech', 'politics', 'entertainment', 'sport'],\n",
       "      dtype=object)"
      ]
     },
     "execution_count": 54,
     "metadata": {},
     "output_type": "execute_result"
    }
   ],
   "execution_count": 54
  },
  {
   "metadata": {},
   "cell_type": "markdown",
   "source": "# Preprocess Data",
   "id": "1b41e3fc635d7051"
  },
  {
   "metadata": {
    "ExecuteTime": {
     "end_time": "2025-05-14T06:19:12.718536Z",
     "start_time": "2025-05-14T06:19:08.678192Z"
    }
   },
   "cell_type": "code",
   "source": [
    "# Preprocess Data\n",
    "import re\n",
    "import string\n",
    "\n",
    "from sklearn.model_selection import train_test_split\n",
    "from sklearn.compose import ColumnTransformer\n"
   ],
   "id": "fb2ec0002310b6a0",
   "outputs": [],
   "execution_count": 1
  },
  {
   "metadata": {},
   "cell_type": "code",
   "outputs": [],
   "execution_count": null,
   "source": "df ",
   "id": "d7f21c26744830d7"
  },
  {
   "metadata": {},
   "cell_type": "code",
   "outputs": [],
   "execution_count": null,
   "source": [
    "target = \"category\"\n",
    "x = data.drop(target, axis= 1)\n",
    "y = data[target]"
   ],
   "id": "9edb0148e9662462"
  },
  {
   "metadata": {
    "ExecuteTime": {
     "end_time": "2025-05-14T06:19:20.350686Z",
     "start_time": "2025-05-14T06:19:20.306028Z"
    }
   },
   "cell_type": "code",
   "source": [
    "train_df = pd.read_csv('/Users/locc/Documents/Binh-Coaching/Ass2/bbc-fulltext/bbc/trainingset.csv',sep='^',header=0)\n",
    "test_df = pd.read_csv('/Users/locc/Documents/Binh-Coaching/Ass2/bbc-fulltext/bbc/test_groundtruth.csv',sep='^',header=0) "
   ],
   "id": "927050350aa53956",
   "outputs": [],
   "execution_count": 3
  },
  {
   "metadata": {},
   "cell_type": "code",
   "source": [
    "train_df.info()\n",
    "test_df.info()\n",
    "train_df.head()"
   ],
   "id": "e4a37341b81a44e1",
   "outputs": [],
   "execution_count": null
  },
  {
   "metadata": {
    "ExecuteTime": {
     "end_time": "2025-05-14T06:23:20.891542Z",
     "start_time": "2025-05-14T06:23:20.878202Z"
    }
   },
   "cell_type": "code",
   "source": [
    "target = \"category\"\n",
    "x_train = train_df.drop(target, axis= 1)\n",
    "y_train = train_df[target]\n",
    "\n",
    "x_test = test_df.drop(target, axis= 1)\n",
    "y_test = test_df[target]"
   ],
   "id": "96e820280d19babe",
   "outputs": [],
   "execution_count": 7
  },
  {
   "metadata": {
    "ExecuteTime": {
     "end_time": "2025-05-14T06:58:11.891791Z",
     "start_time": "2025-05-14T06:58:11.879630Z"
    }
   },
   "cell_type": "code",
   "source": [
    "# Build pipeline\n",
    "from sklearn.pipeline import Pipeline\n",
    "from sklearn.ensemble import RandomForestClassifier\n",
    "from sklearn.feature_extraction.text import TfidfVectorizer\n",
    "from nltk.corpus import stopwords\n",
    "from nltk import WordNetLemmatizer\n",
    "from sklearn.preprocessing import FunctionTransformer\n",
    "\n",
    "def preprocess_text(text_series):\n",
    "    lemmatizer = WordNetLemmatizer()\n",
    "    \n",
    "    def clean(text):\n",
    "        text = str(text)  # ensure string\n",
    "        text = re.sub(r'[^a-zA-Z\\s]', '', text)\n",
    "        text = re.sub(r'\\s+', ' ', text).strip()\n",
    "        words = text.lower().split()\n",
    "        lemmatized = [lemmatizer.lemmatize(word) for word in words]\n",
    "        return ' '.join(lemmatized)\n",
    "\n",
    "    return text_series.apply(clean)\n",
    "\n",
    "\n",
    "# Define the text processing pipeline\n",
    "text_pipeline = Pipeline([\n",
    "    ('preprocess', FunctionTransformer(preprocess_text, validate=False)),\n",
    "    ('tfidf', TfidfVectorizer(\n",
    "        stop_words=stopwords.words(\"english\"),\n",
    "        ngram_range=(1, 2),\n",
    "        min_df=0.01,\n",
    "        max_df=0.99,\n",
    "        smooth_idf=True\n",
    "    ))\n",
    "])\n",
    "\n",
    "# Wrap in a ColumnTransformer\n",
    "preprocessor = ColumnTransformer(transformers=[\n",
    "    (\"content\", text_pipeline, \"content\")\n",
    "])\n",
    "\n",
    "regs = Pipeline(steps=[\n",
    "    (\"preprocessing_data\", preprocessor),\n",
    "    (\"classifier\", RandomForestClassifier())\n",
    "])"
   ],
   "id": "a66d3fbfbc618a87",
   "outputs": [],
   "execution_count": 24
  },
  {
   "metadata": {
    "ExecuteTime": {
     "end_time": "2025-05-14T06:58:14.753348Z",
     "start_time": "2025-05-14T06:58:12.713990Z"
    }
   },
   "cell_type": "code",
   "source": [
    "# train model\n",
    "regs.fit(x_train, y_train)\n",
    "preds = regs.predict(x_test)\n",
    "from sklearn.metrics import classification_report\n",
    "print(classification_report(y_test, preds))"
   ],
   "id": "5a6b1aef9ce731b1",
   "outputs": [
    {
     "name": "stdout",
     "output_type": "stream",
     "text": [
      "               precision    recall  f1-score   support\n",
      "\n",
      "     business       0.96      0.95      0.95       154\n",
      "entertainment       0.97      0.97      0.97       120\n",
      "     politics       0.95      0.96      0.96       125\n",
      "        sport       0.98      1.00      0.99       150\n",
      "         tech       0.95      0.94      0.95       119\n",
      "\n",
      "     accuracy                           0.96       668\n",
      "    macro avg       0.96      0.96      0.96       668\n",
      " weighted avg       0.96      0.96      0.96       668\n",
      "\n"
     ]
    }
   ],
   "execution_count": 25
  },
  {
   "metadata": {
    "ExecuteTime": {
     "end_time": "2025-05-14T07:01:12.185973Z",
     "start_time": "2025-05-14T07:01:11.631891Z"
    }
   },
   "cell_type": "code",
   "source": [
    "# Plot confusion matrix\n",
    "import seaborn as sns\n",
    "from sklearn.metrics import confusion_matrix\n",
    "\n",
    "import matplotlib.pyplot as plt\n",
    "import seaborn as sns\n",
    "from sklearn.metrics import confusion_matrix, classification_report, accuracy_score\n",
    "import pandas as pd\n",
    "import streamlit as st\n",
    "\n",
    "def plot_model_results(y_true, y_pred, labels=None):\n",
    "    # Accuracy\n",
    "    acc = accuracy_score(y_true, y_pred)\n",
    "    st.markdown(f\"### ✅ Accuracy: `{acc:.4f}`\")\n",
    "\n",
    "    # Confusion Matrix\n",
    "    st.markdown(\"### 📉 Confusion Matrix\")\n",
    "    cm = confusion_matrix(y_true, y_pred, labels=labels)\n",
    "    fig, ax = plt.subplots(figsize=(6, 5))\n",
    "    sns.heatmap(cm, annot=True, fmt=\"d\", cmap=\"Blues\", \n",
    "                xticklabels=labels, yticklabels=labels, ax=ax)\n",
    "    ax.set_xlabel(\"Predicted\")\n",
    "    ax.set_ylabel(\"True\")\n",
    "    st.pyplot(fig)\n",
    "\n",
    "    # Classification Report\n",
    "    st.markdown(\"### 📊 Classification Report\")\n",
    "    report = classification_report(y_true, y_pred, target_names=labels, output_dict=True)\n",
    "    report_df = pd.DataFrame(report).transpose().round(2)\n",
    "    st.dataframe(report_df.style.highlight_max(axis=0, color=\"lightgreen\"))\n",
    "\n",
    "    return report_df  # optional: return for further use\n",
    "\n",
    "\n",
    "# Class labels (optional but improves readability)\n",
    "unique_labels = sorted(set(y_test))  # or list of class names\n",
    "plot_model_results(y_test, preds, labels=unique_labels)\n"
   ],
   "id": "9118f3864da048e3",
   "outputs": [
    {
     "name": "stderr",
     "output_type": "stream",
     "text": [
      "2025-05-14 17:01:11.894 WARNING streamlit.runtime.scriptrunner_utils.script_run_context: Thread 'MainThread': missing ScriptRunContext! This warning can be ignored when running in bare mode.\n",
      "2025-05-14 17:01:11.937 \n",
      "  \u001B[33m\u001B[1mWarning:\u001B[0m to view this Streamlit app on a browser, run it with the following\n",
      "  command:\n",
      "\n",
      "    streamlit run /opt/anaconda3/envs/ts_anomaly/lib/python3.10/site-packages/ipykernel_launcher.py [ARGUMENTS]\n",
      "2025-05-14 17:01:11.938 Thread 'MainThread': missing ScriptRunContext! This warning can be ignored when running in bare mode.\n",
      "2025-05-14 17:01:11.938 Thread 'MainThread': missing ScriptRunContext! This warning can be ignored when running in bare mode.\n",
      "2025-05-14 17:01:11.938 Thread 'MainThread': missing ScriptRunContext! This warning can be ignored when running in bare mode.\n",
      "2025-05-14 17:01:12.015 Thread 'MainThread': missing ScriptRunContext! This warning can be ignored when running in bare mode.\n",
      "2025-05-14 17:01:12.097 Thread 'MainThread': missing ScriptRunContext! This warning can be ignored when running in bare mode.\n",
      "2025-05-14 17:01:12.097 Thread 'MainThread': missing ScriptRunContext! This warning can be ignored when running in bare mode.\n",
      "2025-05-14 17:01:12.098 Thread 'MainThread': missing ScriptRunContext! This warning can be ignored when running in bare mode.\n",
      "2025-05-14 17:01:12.098 Thread 'MainThread': missing ScriptRunContext! This warning can be ignored when running in bare mode.\n",
      "2025-05-14 17:01:12.136 Thread 'MainThread': missing ScriptRunContext! This warning can be ignored when running in bare mode.\n",
      "2025-05-14 17:01:12.143 Thread 'MainThread': missing ScriptRunContext! This warning can be ignored when running in bare mode.\n",
      "2025-05-14 17:01:12.144 Thread 'MainThread': missing ScriptRunContext! This warning can be ignored when running in bare mode.\n"
     ]
    },
    {
     "data": {
      "text/plain": [
       "               precision  recall  f1-score  support\n",
       "business            0.96    0.95      0.95   154.00\n",
       "entertainment       0.97    0.97      0.97   120.00\n",
       "politics            0.95    0.96      0.96   125.00\n",
       "sport               0.98    1.00      0.99   150.00\n",
       "tech                0.95    0.94      0.95   119.00\n",
       "accuracy            0.96    0.96      0.96     0.96\n",
       "macro avg           0.96    0.96      0.96   668.00\n",
       "weighted avg        0.96    0.96      0.96   668.00"
      ],
      "text/html": [
       "<div>\n",
       "<style scoped>\n",
       "    .dataframe tbody tr th:only-of-type {\n",
       "        vertical-align: middle;\n",
       "    }\n",
       "\n",
       "    .dataframe tbody tr th {\n",
       "        vertical-align: top;\n",
       "    }\n",
       "\n",
       "    .dataframe thead th {\n",
       "        text-align: right;\n",
       "    }\n",
       "</style>\n",
       "<table border=\"1\" class=\"dataframe\">\n",
       "  <thead>\n",
       "    <tr style=\"text-align: right;\">\n",
       "      <th></th>\n",
       "      <th>precision</th>\n",
       "      <th>recall</th>\n",
       "      <th>f1-score</th>\n",
       "      <th>support</th>\n",
       "    </tr>\n",
       "  </thead>\n",
       "  <tbody>\n",
       "    <tr>\n",
       "      <th>business</th>\n",
       "      <td>0.96</td>\n",
       "      <td>0.95</td>\n",
       "      <td>0.95</td>\n",
       "      <td>154.00</td>\n",
       "    </tr>\n",
       "    <tr>\n",
       "      <th>entertainment</th>\n",
       "      <td>0.97</td>\n",
       "      <td>0.97</td>\n",
       "      <td>0.97</td>\n",
       "      <td>120.00</td>\n",
       "    </tr>\n",
       "    <tr>\n",
       "      <th>politics</th>\n",
       "      <td>0.95</td>\n",
       "      <td>0.96</td>\n",
       "      <td>0.96</td>\n",
       "      <td>125.00</td>\n",
       "    </tr>\n",
       "    <tr>\n",
       "      <th>sport</th>\n",
       "      <td>0.98</td>\n",
       "      <td>1.00</td>\n",
       "      <td>0.99</td>\n",
       "      <td>150.00</td>\n",
       "    </tr>\n",
       "    <tr>\n",
       "      <th>tech</th>\n",
       "      <td>0.95</td>\n",
       "      <td>0.94</td>\n",
       "      <td>0.95</td>\n",
       "      <td>119.00</td>\n",
       "    </tr>\n",
       "    <tr>\n",
       "      <th>accuracy</th>\n",
       "      <td>0.96</td>\n",
       "      <td>0.96</td>\n",
       "      <td>0.96</td>\n",
       "      <td>0.96</td>\n",
       "    </tr>\n",
       "    <tr>\n",
       "      <th>macro avg</th>\n",
       "      <td>0.96</td>\n",
       "      <td>0.96</td>\n",
       "      <td>0.96</td>\n",
       "      <td>668.00</td>\n",
       "    </tr>\n",
       "    <tr>\n",
       "      <th>weighted avg</th>\n",
       "      <td>0.96</td>\n",
       "      <td>0.96</td>\n",
       "      <td>0.96</td>\n",
       "      <td>668.00</td>\n",
       "    </tr>\n",
       "  </tbody>\n",
       "</table>\n",
       "</div>"
      ]
     },
     "execution_count": 26,
     "metadata": {},
     "output_type": "execute_result"
    },
    {
     "data": {
      "text/plain": [
       "<Figure size 600x500 with 2 Axes>"
      ],
      "image/png": "[encoded data removed]"
     },
     "metadata": {},
     "output_type": "display_data"
    }
   ],
   "execution_count": 26
  },
  {
   "metadata": {},
   "cell_type": "code",
   "outputs": [],
   "execution_count": null,
   "source": "",
   "id": "ef349568b0aa69f9"
  }
 ],
 "metadata": {
  "kernelspec": {
   "display_name": "Python 3",
   "language": "python",
   "name": "python3"
  },
  "language_info": {
   "codemirror_mode": {
    "name": "ipython",
    "version": 2
   },
   "file_extension": ".py",
   "mimetype": "text/x-python",
   "name": "python",
   "nbconvert_exporter": "python",
   "pygments_lexer": "ipython2",
   "version": "2.7.6"
  }
 },
 "nbformat": 4,
 "nbformat_minor": 5
}
